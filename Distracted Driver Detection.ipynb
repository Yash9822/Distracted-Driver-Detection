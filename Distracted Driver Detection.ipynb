{
 "cells": [
  {
   "cell_type": "markdown",
   "id": "92c17b3c",
   "metadata": {},
   "source": [
    "#### Important Libraries"
   ]
  },
  {
   "cell_type": "code",
   "execution_count": 1,
   "id": "448a0c2b",
   "metadata": {},
   "outputs": [],
   "source": [
    "import tensorflow as tf\n",
    "from tensorflow.keras.models import Sequential,Model\n",
    "from tensorflow.keras.preprocessing.image import ImageDataGenerator\n",
    "from tensorflow.keras.optimizers import Adam\n",
    "from tensorflow.keras.callbacks import EarlyStopping\n",
    "from tensorflow.keras.layers import Conv2D, MaxPooling2D, Dense, Flatten, Dropout\n",
    "import numpy as np\n",
    "import tensorflow as tf\n",
    "from tensorflow import keras\n",
    "import os\n",
    "from shutil import copyfile\n",
    "import numpy as np\n",
    "import tensorflow as tf\n",
    "from tensorflow import keras"
   ]
  },
  {
   "cell_type": "code",
   "execution_count": 2,
   "id": "1e50f975",
   "metadata": {},
   "outputs": [],
   "source": [
    "classes = os.listdir('c:Downloads/train/') #Total number of classes\n",
    "os.mkdir('master_data') #Making a directory named \"master_data\"\n",
    "os.mkdir('master_data/training') #Making a \"training\" folder in master_data folder\n",
    "os.mkdir('master_data/testing') # making a \"testing\" folder in master_data folder"
   ]
  },
  {
   "cell_type": "code",
   "execution_count": 3,
   "id": "df493a37",
   "metadata": {},
   "outputs": [],
   "source": [
    "#creating the folders for each classes in training and testing folder.\n",
    "for i in classes:\n",
    "    os.mkdir(os.path.join('master_data/training', i))\n",
    "    os.mkdir(os.path.join('master_data/testing', i))"
   ]
  },
  {
   "cell_type": "code",
   "execution_count": 4,
   "id": "3baf03f6",
   "metadata": {},
   "outputs": [],
   "source": [
    "'''so basically i am provided with the training dataset now, my task is to train a model using this dataset with high accuracy.\n",
    "in order to validate the model. i will need a testing data. so, here i am making two datasets named traing and testing \n",
    "respectively. i will train the model using traing dataset and for the validation part i will use testing dataset.'''\n",
    "split_size = 0.9\n",
    "for i in classes:\n",
    "    images = os.listdir(os.path.join('c:Downloads/train/', i))\n",
    "    train_size = int(len(images) * split_size)\n",
    "    train_images = images[:train_size]\n",
    "    test_images = images[train_size:]\n",
    "    for image in train_images:\n",
    "        source = os.path.join('c:Downloads/train/',i , image)\n",
    "        dest = os.path.join('master_data/training/', i, image)\n",
    "        copyfile(source, dest)\n",
    "    for image in test_images:\n",
    "        source = os.path.join('c:Downloads/train/',i , image)\n",
    "        dest = os.path.join('master_data/testing/', i, image)\n",
    "        copyfile(source, dest)"
   ]
  },
  {
   "cell_type": "code",
   "execution_count": 5,
   "id": "83406ef2",
   "metadata": {},
   "outputs": [],
   "source": [
    "'''path of traing and testing data'''\n",
    "train_dir = 'master_data/training'\n",
    "test_dir = 'master_data/testing'"
   ]
  },
  {
   "cell_type": "code",
   "execution_count": 6,
   "id": "35baf3fc",
   "metadata": {},
   "outputs": [
    {
     "name": "stdout",
     "output_type": "stream",
     "text": [
      "Found 20177 images belonging to 10 classes.\n",
      "Found 2247 images belonging to 10 classes.\n"
     ]
    }
   ],
   "source": [
    "'''Here, I am using ImageDataGenerator Class and i have stored the data in directory format therefore i am using the function\n",
    "flow_from_directory'''\n",
    "train_datagen = ImageDataGenerator(rescale=1.0/255)\n",
    "train_generator = train_datagen.flow_from_directory(\n",
    "                                                      train_dir,\n",
    "                                                      target_size = (64,64),\n",
    "                                                      class_mode = 'categorical',\n",
    "                                                      batch_size = 32\n",
    "                                                    )\n",
    "\n",
    "test_datagen = ImageDataGenerator(rescale=1.0/255)\n",
    "test_generator = test_datagen.flow_from_directory(\n",
    "                                                      test_dir,\n",
    "                                                      target_size = (64,64),\n",
    "                                                      class_mode = 'categorical',\n",
    "                                                      batch_size = 32\n",
    "                                                    )"
   ]
  },
  {
   "cell_type": "markdown",
   "id": "807f7b14",
   "metadata": {},
   "source": [
    "###### Creating a Model"
   ]
  },
  {
   "cell_type": "code",
   "execution_count": 7,
   "id": "1da71716",
   "metadata": {},
   "outputs": [
    {
     "name": "stdout",
     "output_type": "stream",
     "text": [
      "Model: \"sequential\"\n",
      "_________________________________________________________________\n",
      "Layer (type)                 Output Shape              Param #   \n",
      "=================================================================\n",
      "conv2d (Conv2D)              (None, 64, 64, 64)        1792      \n",
      "_________________________________________________________________\n",
      "max_pooling2d (MaxPooling2D) (None, 32, 32, 64)        0         \n",
      "_________________________________________________________________\n",
      "conv2d_1 (Conv2D)            (None, 32, 32, 128)       73856     \n",
      "_________________________________________________________________\n",
      "max_pooling2d_1 (MaxPooling2 (None, 16, 16, 128)       0         \n",
      "_________________________________________________________________\n",
      "conv2d_2 (Conv2D)            (None, 16, 16, 256)       295168    \n",
      "_________________________________________________________________\n",
      "max_pooling2d_2 (MaxPooling2 (None, 8, 8, 256)         0         \n",
      "_________________________________________________________________\n",
      "conv2d_3 (Conv2D)            (None, 8, 8, 512)         1180160   \n",
      "_________________________________________________________________\n",
      "max_pooling2d_3 (MaxPooling2 (None, 4, 4, 512)         0         \n",
      "_________________________________________________________________\n",
      "dropout (Dropout)            (None, 4, 4, 512)         0         \n",
      "_________________________________________________________________\n",
      "flatten (Flatten)            (None, 8192)              0         \n",
      "_________________________________________________________________\n",
      "dense (Dense)                (None, 500)               4096500   \n",
      "_________________________________________________________________\n",
      "dropout_1 (Dropout)          (None, 500)               0         \n",
      "_________________________________________________________________\n",
      "dense_1 (Dense)              (None, 10)                5010      \n",
      "=================================================================\n",
      "Total params: 5,652,486\n",
      "Trainable params: 5,652,486\n",
      "Non-trainable params: 0\n",
      "_________________________________________________________________\n"
     ]
    }
   ],
   "source": [
    "model = Sequential()\n",
    "\n",
    "model.add(Conv2D(64,(3,3),padding='same', activation='relu', input_shape=(64,64,3)))\n",
    "model.add(MaxPooling2D(pool_size=2))\n",
    "model.add(Conv2D(128,(3,3), padding='same', activation='relu'))\n",
    "model.add(MaxPooling2D(pool_size=2))\n",
    "model.add(Conv2D(256,(3,3), padding='same', activation='relu'))\n",
    "model.add(MaxPooling2D(pool_size=2))\n",
    "model.add(Conv2D(512,(3,3), padding='same', activation='relu'))\n",
    "model.add(MaxPooling2D(pool_size=2))\n",
    "model.add(Dropout(0.5))\n",
    "model.add(Flatten())\n",
    "model.add(Dense(500, activation='relu'))\n",
    "model.add(Dropout(0.5))\n",
    "model.add(Dense(10, activation='softmax'))\n",
    "\n",
    "\n",
    "model.summary() #Summary of the model"
   ]
  },
  {
   "cell_type": "code",
   "execution_count": 8,
   "id": "7c6ed3a0",
   "metadata": {},
   "outputs": [],
   "source": [
    "'''Compiling the Model'''\n",
    "model.compile(optimizer=Adam(), loss='categorical_crossentropy', metrics=['acc']) #Compiling the model"
   ]
  },
  {
   "cell_type": "code",
   "execution_count": 9,
   "id": "0f61eca2",
   "metadata": {},
   "outputs": [],
   "source": [
    "es = EarlyStopping(monitor='val_acc', patience=2, min_delta=0.01)"
   ]
  },
  {
   "cell_type": "code",
   "execution_count": 10,
   "id": "97f6f6e1",
   "metadata": {},
   "outputs": [
    {
     "name": "stdout",
     "output_type": "stream",
     "text": [
      "WARNING:tensorflow:From <ipython-input-10-afd3fcd9768e>:6: Model.fit_generator (from tensorflow.python.keras.engine.training) is deprecated and will be removed in a future version.\n",
      "Instructions for updating:\n",
      "Please use Model.fit, which supports generators.\n",
      "WARNING:tensorflow:sample_weight modes were coerced from\n",
      "  ...\n",
      "    to  \n",
      "  ['...']\n",
      "WARNING:tensorflow:sample_weight modes were coerced from\n",
      "  ...\n",
      "    to  \n",
      "  ['...']\n",
      "Train for 631 steps, validate for 71 steps\n",
      "Epoch 1/5\n",
      "631/631 [==============================] - 198s 314ms/step - loss: 1.0621 - acc: 0.6130 - val_loss: 0.1742 - val_acc: 0.9493\n",
      "Epoch 2/5\n",
      "631/631 [==============================] - 89s 142ms/step - loss: 0.1771 - acc: 0.9478 - val_loss: 0.0478 - val_acc: 0.9889\n",
      "Epoch 3/5\n",
      "631/631 [==============================] - 89s 141ms/step - loss: 0.0901 - acc: 0.9741 - val_loss: 0.0448 - val_acc: 0.9849\n",
      "Epoch 4/5\n",
      "631/631 [==============================] - 90s 143ms/step - loss: 0.0603 - acc: 0.9817 - val_loss: 0.0331 - val_acc: 0.9911\n"
     ]
    }
   ],
   "source": [
    "'''Fitting the model'''\n",
    "history = model.fit_generator(train_generator,\n",
    "                    epochs=5,\n",
    "                    verbose=1,\n",
    "                    validation_data=test_generator,\n",
    "                   callbacks=[es])"
   ]
  },
  {
   "cell_type": "code",
   "execution_count": 11,
   "id": "9697d96e",
   "metadata": {},
   "outputs": [],
   "source": [
    "hist = history\n",
    "import matplotlib.pyplot as plt"
   ]
  },
  {
   "cell_type": "code",
   "execution_count": 16,
   "id": "5833953d",
   "metadata": {},
   "outputs": [
    {
     "data": {
      "image/png": "[encoded data removed]",
      "text/plain": [
       "<Figure size 432x288 with 1 Axes>"
      ]
     },
     "metadata": {
      "needs_background": "light"
     },
     "output_type": "display_data"
    },
    {
     "data": {
      "image/png": "[encoded data removed]",
      "text/plain": [
       "<Figure size 432x288 with 1 Axes>"
      ]
     },
     "metadata": {
      "needs_background": "light"
     },
     "output_type": "display_data"
    }
   ],
   "source": [
    "# Summarize history for accuracy\n",
    "plt.plot(hist.history['acc'])\n",
    "plt.plot(hist.history['val_acc'])\n",
    "plt.title('model accuracy')\n",
    "plt.ylabel('accuracy')\n",
    "plt.xlabel('epoch')\n",
    "plt.legend(['train', 'test'], loc='upper left')\n",
    "plt.savefig('model accuracy.png')\n",
    "plt.show()\n",
    "# Summarize history for loss\n",
    "plt.plot(hist.history['loss'])\n",
    "plt.plot(hist.history['val_loss'])\n",
    "plt.title('model loss')\n",
    "plt.ylabel('loss')\n",
    "plt.xlabel('epoch')\n",
    "plt.legend(['train', 'test'], loc='upper left')\n",
    "plt.savefig('model loss.png')\n",
    "plt.show()"
   ]
  }
 ],
 "metadata": {
  "kernelspec": {
   "display_name": "Python 3",
   "language": "python",
   "name": "python3"
  },
  "language_info": {
   "codemirror_mode": {
    "name": "ipython",
    "version": 3
   },
   "file_extension": ".py",
   "mimetype": "text/x-python",
   "name": "python",
   "nbconvert_exporter": "python",
   "pygments_lexer": "ipython3",
   "version": "3.8.5"
  }
 },
 "nbformat": 4,
 "nbformat_minor": 5
}
